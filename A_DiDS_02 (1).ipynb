{
 "cells": [
  {
   "cell_type": "markdown",
   "id": "ceb2874e",
   "metadata": {},
   "source": [
    "# Statistics for Data Science [DS401]\n",
    "## Dictionaries, Lists and Tuples. Part 1\n",
    "#### By: Javier Orduz\n",
    "\n",
    "[licenseBDG]: https://img.shields.io/badge/License-CC-orange?style=plastic\n",
    "[license]: https://creativecommons.org/licenses/by-nc-sa/3.0/deed.en\n",
    "\n",
    "[mywebsiteBDG]:https://img.shields.io/badge/website-jaorduz.github.io-0abeeb?style=plastic\n",
    "[mywebsite]: https://jaorduz.github.io/\n",
    "\n",
    "[mygithubBDG-jaorduz]: https://img.shields.io/badge/jaorduz-repos-blue?logo=github&label=jaorduz&style=plastic\n",
    "[mygithub-jaorduz]: https://github.com/jaorduz/\n",
    "\n",
    "[mygithubBDG-jaorduc]: https://img.shields.io/badge/jaorduc-repos-blue?logo=github&label=jaorduc&style=plastic \n",
    "[mygithub-jaorduc]: https://github.com/jaorduc/\n",
    "\n",
    "[myXprofileBDG]: https://img.shields.io/static/v1?label=Follow&message=jaorduc&color=2ea44f&style=plastic&logo=X&logoColor=black\n",
    "[myXprofile]:https://twitter.com/jaorduc\n",
    "\n",
    "\n",
    "[![website - jaorduz.github.io][mywebsiteBDG]][mywebsite]\n",
    "[![Github][mygithubBDG-jaorduz]][mygithub-jaorduz]\n",
    "[![Github][mygithubBDG-jaorduc]][mygithub-jaorduc]\n",
    "[![Follow @jaorduc][myXprofileBDG]][myXprofile]\n",
    "[![CC License][licenseBDG]][license]"
   ]
  },
  {
   "cell_type": "markdown",
   "id": "49985e6d-d344-4684-b4d8-89e829989ee7",
   "metadata": {},
   "source": [
    "## Contents\n",
    "<div class=\"alert  alert-block alert-info\" style=\"margin-top: 1px\">\n",
    "    <ol>\n",
    "        <!-- <li><a href=\"#unData\">Create a function</a></li> -->\n",
    "         <!-- <ol>\n",
    "             <li><a href=\"#reData\">Reading</a></li>\n",
    "         </ol> -->\n",
    "        <li><a href=\"#list_tuples\">List and Tuples</a></li>\n",
    "        <li><a href=\"#exercises\">Exercises</a></li>\n",
    "        <li><a href=\"#references\">References</a></li>\n",
    "    </ol>\n",
    "</div>\n",
    "<br>\n",
    "<hr>"
   ]
  },
  {
   "cell_type": "markdown",
   "id": "5fd9b8b0",
   "metadata": {},
   "source": [
    "## 1. Dictionaries, List and Tuples\n",
    "We call the package"
   ]
  },
  {
   "cell_type": "code",
   "execution_count": 1,
   "id": "90b7c328",
   "metadata": {},
   "outputs": [],
   "source": [
    "# Import numpy librairy\n",
    "import numpy as np"
   ]
  },
  {
   "cell_type": "markdown",
   "id": "f7f30c63",
   "metadata": {},
   "source": [
    "We create an set of random mumbers."
   ]
  },
  {
   "cell_type": "code",
   "execution_count": 2,
   "id": "b93db34a",
   "metadata": {},
   "outputs": [],
   "source": [
    "#Create a dictionary with 3 key values pairs. For each key value pair it creates a \n",
    "# 2x4 matrix of random numbers using the standard normal distribution\n",
    "\n",
    "data = {i : np.random.randn(2,4) for i in range(3)}"
   ]
  },
  {
   "cell_type": "code",
   "execution_count": 3,
   "id": "32637ed2-846b-484e-b84f-0d3b1caf4880",
   "metadata": {},
   "outputs": [
    {
     "data": {
      "text/plain": [
       "dict"
      ]
     },
     "execution_count": 3,
     "metadata": {},
     "output_type": "execute_result"
    }
   ],
   "source": [
    "#Print the type of data\n",
    "type(data)"
   ]
  },
  {
   "cell_type": "markdown",
   "id": "9b642b71",
   "metadata": {},
   "source": [
    "We print the data with the label from $i= 0$ to $i= 6$"
   ]
  },
  {
   "cell_type": "code",
   "execution_count": 4,
   "id": "034c683a",
   "metadata": {},
   "outputs": [
    {
     "name": "stdout",
     "output_type": "stream",
     "text": [
      "{0: array([[ 0.17171071, -0.10169233, -0.54433116, -0.85924197],\n",
      "       [ 0.47870565, -1.41683461,  0.98564145,  0.06982052]]), 1: array([[-0.91606607,  2.67503204, -0.509699  ,  0.15174552],\n",
      "       [ 0.30888841, -1.32088189,  1.41107135, -0.13875233]]), 2: array([[-1.57397813,  0.99484695, -0.26080487,  1.43727838],\n",
      "       [-0.6330638 , -0.31931737,  1.73232432, -0.29097621]])}\n"
     ]
    }
   ],
   "source": [
    "#Print the data\n",
    "print(data)"
   ]
  },
  {
   "cell_type": "code",
   "execution_count": 6,
   "id": "0e9b2ec7-3cf9-4410-ba96-9692175a65d2",
   "metadata": {},
   "outputs": [
    {
     "name": "stdout",
     "output_type": "stream",
     "text": [
      "[ 0.32520818 -0.75926347  0.22065515 -0.39471072]\n"
     ]
    }
   ],
   "source": [
    "# Calculate the average of each column\n",
    "#Matrix is an integer representing the index of the matrix we want to use\n",
    "def avg(data, matrix):\n",
    "    column_averages = np.mean(data[matrix], axis=0)\n",
    "    print(column_averages)\n",
    "avg(data,0)\n",
    "        \n",
    "    "
   ]
  },
  {
   "cell_type": "code",
   "execution_count": 7,
   "id": "cda5913d",
   "metadata": {},
   "outputs": [
    {
     "data": {
      "text/plain": [
       "array([[ 0.17171071, -0.10169233, -0.54433116, -0.85924197],\n",
       "       [ 0.47870565, -1.41683461,  0.98564145,  0.06982052]])"
      ]
     },
     "execution_count": 7,
     "metadata": {},
     "output_type": "execute_result"
    }
   ],
   "source": [
    "#Print the value of the first key-value element in the dic\n",
    "data[0]"
   ]
  },
  {
   "cell_type": "code",
   "execution_count": 16,
   "id": "bdfdb4b6",
   "metadata": {},
   "outputs": [
    {
     "data": {
      "text/plain": [
       "array([-0.51529428, -0.39530106,  0.467188  ,  1.45050065])"
      ]
     },
     "execution_count": 16,
     "metadata": {},
     "output_type": "execute_result"
    }
   ],
   "source": [
    "# Print the first row of the value of the first key-value element\n",
    "data[0][0]"
   ]
  },
  {
   "cell_type": "markdown",
   "id": "712743c6",
   "metadata": {},
   "source": [
    "This is how we extract the 000 element"
   ]
  },
  {
   "cell_type": "code",
   "execution_count": 17,
   "id": "5ac4f0c7",
   "metadata": {},
   "outputs": [
    {
     "data": {
      "text/plain": [
       "-0.5152942827164209"
      ]
     },
     "execution_count": 17,
     "metadata": {},
     "output_type": "execute_result"
    }
   ],
   "source": [
    "# Print the first number of the first row of the value of the first key-value element\n",
    "data[0][0][0]"
   ]
  },
  {
   "cell_type": "markdown",
   "id": "590c184e-282c-4ac6-bd9f-a07361a06176",
   "metadata": {},
   "source": [
    "## Versions"
   ]
  },
  {
   "cell_type": "code",
   "execution_count": 23,
   "id": "9638e2a7-ba48-4573-885e-f9cf893b8d58",
   "metadata": {},
   "outputs": [
    {
     "name": "stdout",
     "output_type": "stream",
     "text": [
      "python version:  3.11.7\n"
     ]
    }
   ],
   "source": [
    "#Print the python version we are using\n",
    "\n",
    "from platform import python_version\n",
    "print(\"python version: \", python_version())\n",
    "!pip3 freeze | grep qiskit"
   ]
  },
  {
   "cell_type": "markdown",
   "id": "04224537",
   "metadata": {},
   "source": [
    "# Exercise"
   ]
  },
  {
   "cell_type": "markdown",
   "id": "69522dfb",
   "metadata": {},
   "source": [
    "1. Add documentation for the previous code, each line.\n",
    "1. Calculate the average for the different columns\n",
    "1. Discuss differences between List and tuples.\n",
    "4. Create a Jupyter Notebook and solve this NB's questions.\n",
    "5. Submmit your report in Moodle. Template https://www.overleaf.com/read/xqcnnnrsspcp"
   ]
  },
  {
   "cell_type": "code",
   "execution_count": null,
   "id": "d02294d6-e7b0-42dd-84dc-4ec7da17bd7d",
   "metadata": {},
   "outputs": [],
   "source": [
    "# There is one main difference between a list and a tuple. A list is a mutable type whereas a tuple is immutable. \n",
    "# In other word you cannot change the elements of a tuple unlike a list."
   ]
  },
  {
   "cell_type": "code",
   "execution_count": null,
   "id": "dffe70b9-9135-4d72-a5a2-d313dafefcc0",
   "metadata": {},
   "outputs": [],
   "source": []
  }
 ],
 "metadata": {
  "kernelspec": {
   "display_name": "Python 3 (ipykernel)",
   "language": "python",
   "name": "python3"
  },
  "language_info": {
   "codemirror_mode": {
    "name": "ipython",
    "version": 3
   },
   "file_extension": ".py",
   "mimetype": "text/x-python",
   "name": "python",
   "nbconvert_exporter": "python",
   "pygments_lexer": "ipython3",
   "version": "3.11.7"
  },
  "vscode": {
   "interpreter": {
    "hash": "31f2aee4e71d21fbe5cf8b01ff0e069b9275f58929596ceb00d14d90e3e16cd6"
   }
  }
 },
 "nbformat": 4,
 "nbformat_minor": 5
}
