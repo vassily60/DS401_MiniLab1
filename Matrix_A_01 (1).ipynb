{
 "cells": [
  {
   "cell_type": "code",
   "execution_count": 3,
   "id": "0afb877e-725b-4365-921c-ce171b8e24cc",
   "metadata": {},
   "outputs": [],
   "source": [
    "## Write a function that calculate the determinant of 2x2 and 3x3 matrix"
   ]
  },
  {
   "cell_type": "code",
   "execution_count": 27,
   "id": "82519227-8122-448e-8ba8-d7025ee1193c",
   "metadata": {},
   "outputs": [],
   "source": [
    "array = [[1,2,3],[4,5,6],[7,8,9]]\n",
    "array2 = [[1,2],[3,4]]"
   ]
  },
  {
   "cell_type": "code",
   "execution_count": 31,
   "id": "0df16ca0-64c3-4b4e-9b8c-6db304c6cef1",
   "metadata": {},
   "outputs": [
    {
     "name": "stdout",
     "output_type": "stream",
     "text": [
      "0\n"
     ]
    }
   ],
   "source": [
    "#Recursive Function to calculate the determinant of a 2x2 matrix or 3x3 matrix.\n",
    "\n",
    "def det(array):\n",
    "    if len(array) == 2:\n",
    "        res = array[0][0] * array[1][1] - array[0][1] * array[1][0]\n",
    "        return res\n",
    "    elif len(array) == 3:\n",
    "        res = array[0][0] * det([array[1][1:], array[2][1:]]) - array[0][1] * det([[array[1][0], array[1][2]], [array[2][0], array[2][2]]]) + array[0][2] * det([array[1][:-1], array[2][:-1]]) \n",
    "        return res\n",
    "    else:\n",
    "        raise Exception(\"Sorry, we need 2x2 or 3x3 matrix\")\n",
    "\n",
    "print(det(array))\n"
   ]
  },
  {
   "cell_type": "code",
   "execution_count": null,
   "id": "f46d545c-47f2-4b50-b42e-75a5da7bff25",
   "metadata": {},
   "outputs": [],
   "source": []
  }
 ],
 "metadata": {
  "kernelspec": {
   "display_name": "Python 3 (ipykernel)",
   "language": "python",
   "name": "python3"
  },
  "language_info": {
   "codemirror_mode": {
    "name": "ipython",
    "version": 3
   },
   "file_extension": ".py",
   "mimetype": "text/x-python",
   "name": "python",
   "nbconvert_exporter": "python",
   "pygments_lexer": "ipython3",
   "version": "3.11.7"
  }
 },
 "nbformat": 4,
 "nbformat_minor": 5
}
