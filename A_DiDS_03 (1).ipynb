{
 "cells": [
  {
   "cell_type": "markdown",
   "id": "0b4e5488-1099-463c-bdd6-a333b2936c48",
   "metadata": {},
   "source": [
    "# Statistics for Data Science [DS401]\n",
    "## Dictionaries, Lists and Tuples. Part 2\n",
    "#### By: Javier Orduz\n",
    "\n",
    "[licenseBDG]: https://img.shields.io/badge/License-CC-orange?style=plastic\n",
    "[license]: https://creativecommons.org/licenses/by-nc-sa/3.0/deed.en\n",
    "\n",
    "[mywebsiteBDG]:https://img.shields.io/badge/website-jaorduz.github.io-0abeeb?style=plastic\n",
    "[mywebsite]: https://jaorduz.github.io/\n",
    "\n",
    "[mygithubBDG-jaorduz]: https://img.shields.io/badge/jaorduz-repos-blue?logo=github&label=jaorduz&style=plastic\n",
    "[mygithub-jaorduz]: https://github.com/jaorduz/\n",
    "\n",
    "[mygithubBDG-jaorduc]: https://img.shields.io/badge/jaorduc-repos-blue?logo=github&label=jaorduc&style=plastic \n",
    "[mygithub-jaorduc]: https://github.com/jaorduc/\n",
    "\n",
    "[myXprofileBDG]: https://img.shields.io/static/v1?label=Follow&message=jaorduc&color=2ea44f&style=plastic&logo=X&logoColor=black\n",
    "[myXprofile]:https://twitter.com/jaorduc\n",
    "\n",
    "\n",
    "[![website - jaorduz.github.io][mywebsiteBDG]][mywebsite]\n",
    "[![Github][mygithubBDG-jaorduz]][mygithub-jaorduz]\n",
    "[![Github][mygithubBDG-jaorduc]][mygithub-jaorduc]\n",
    "[![Follow @jaorduc][myXprofileBDG]][myXprofile]\n",
    "[![CC License][licenseBDG]][license]"
   ]
  },
  {
   "cell_type": "markdown",
   "id": "8eaf7b3b",
   "metadata": {},
   "source": [
    "## Contents\n",
    "<div class=\"alert  alert-block alert-info\" style=\"margin-top: 1px\">\n",
    "    <ol>\n",
    "        <!-- <li><a href=\"#unData\">Create a function</a></li> -->\n",
    "         <!-- <ol>\n",
    "             <li><a href=\"#reData\">Reading</a></li>\n",
    "         </ol> -->\n",
    "        <li><a href=\"#list_tuples\">List and Tuples</a></li>\n",
    "        <li><a href=\"#exercises\">Exercises</a></li>\n",
    "        <li><a href=\"#references\">References</a></li>\n",
    "    </ol>\n",
    "</div>\n",
    "<br>\n",
    "<hr>"
   ]
  },
  {
   "cell_type": "markdown",
   "id": "2ad1eef3",
   "metadata": {},
   "source": [
    "# Lists and Tuples <a name=\"list_tuples\"></a>"
   ]
  },
  {
   "cell_type": "markdown",
   "id": "4cba55e9",
   "metadata": {},
   "source": [
    "In short, a list is a collection of arbitrary objects, somewhat akin to an array in many other programming languages but more flexible. **Lists are defined in Python by enclosing a comma-separated sequence of objects in square brackets** [1], as shown below:"
   ]
  },
  {
   "cell_type": "markdown",
   "id": "0d9b9d0c",
   "metadata": {},
   "source": [
    "## Same type"
   ]
  },
  {
   "cell_type": "code",
   "execution_count": 1,
   "id": "f0ecb6cd",
   "metadata": {},
   "outputs": [],
   "source": [
    "#Create a list\n",
    "a = ['foo', 'bar', 'baz', 'qux']"
   ]
  },
  {
   "cell_type": "code",
   "execution_count": 2,
   "id": "f67bc172",
   "metadata": {},
   "outputs": [
    {
     "data": {
      "text/plain": [
       "['foo', 'bar', 'baz', 'qux']"
      ]
     },
     "execution_count": 2,
     "metadata": {},
     "output_type": "execute_result"
    }
   ],
   "source": [
    "#Show the list\n",
    "a"
   ]
  },
  {
   "cell_type": "code",
   "execution_count": 3,
   "id": "b99628d0",
   "metadata": {},
   "outputs": [],
   "source": [
    "#Create a list\n",
    "b = [1, 2, 3, 4]"
   ]
  },
  {
   "cell_type": "code",
   "execution_count": 4,
   "id": "c9b198fd",
   "metadata": {},
   "outputs": [
    {
     "data": {
      "text/plain": [
       "[1, 2, 3, 4]"
      ]
     },
     "execution_count": 4,
     "metadata": {},
     "output_type": "execute_result"
    }
   ],
   "source": [
    "#Show the list\n",
    "b"
   ]
  },
  {
   "cell_type": "markdown",
   "id": "5daa5b51",
   "metadata": {},
   "source": [
    "## Different type"
   ]
  },
  {
   "cell_type": "code",
   "execution_count": 5,
   "id": "5bbf013a",
   "metadata": {},
   "outputs": [],
   "source": [
    "#Create a list\n",
    "c = [21.42, 'foobar', 3, 4, 'bark', False, 3.14159]"
   ]
  },
  {
   "cell_type": "code",
   "execution_count": 6,
   "id": "a1191b90",
   "metadata": {},
   "outputs": [
    {
     "data": {
      "text/plain": [
       "[21.42, 'foobar', 3, 4, 'bark', False, 3.14159]"
      ]
     },
     "execution_count": 6,
     "metadata": {},
     "output_type": "execute_result"
    }
   ],
   "source": [
    "#Show the list\n",
    "c"
   ]
  },
  {
   "cell_type": "markdown",
   "id": "2e0c47ba",
   "metadata": {},
   "source": [
    "Even lists can contain functions, classes, and modules.\n",
    "Each list assignes index for all elements starting from 0 (from left or -1 starting from right)."
   ]
  },
  {
   "cell_type": "code",
   "execution_count": 7,
   "id": "ed612136",
   "metadata": {},
   "outputs": [
    {
     "data": {
      "text/plain": [
       "21.42"
      ]
     },
     "execution_count": 7,
     "metadata": {},
     "output_type": "execute_result"
    }
   ],
   "source": [
    "#GEt the first element of the list\n",
    "c[0]"
   ]
  },
  {
   "cell_type": "code",
   "execution_count": 8,
   "id": "c2cc1171",
   "metadata": {},
   "outputs": [
    {
     "data": {
      "text/plain": [
       "'qux'"
      ]
     },
     "execution_count": 8,
     "metadata": {},
     "output_type": "execute_result"
    }
   ],
   "source": [
    "#Get the last element of the list\n",
    "a[-1]"
   ]
  },
  {
   "cell_type": "markdown",
   "id": "4d00cde3",
   "metadata": {},
   "source": [
    "# Part of the list"
   ]
  },
  {
   "cell_type": "code",
   "execution_count": 9,
   "id": "254bd0da",
   "metadata": {},
   "outputs": [
    {
     "data": {
      "text/plain": [
       "[2, 3]"
      ]
     },
     "execution_count": 9,
     "metadata": {},
     "output_type": "execute_result"
    }
   ],
   "source": [
    "#Get the 2nd and 3rd element of the list\n",
    "b[1:3]"
   ]
  },
  {
   "cell_type": "markdown",
   "id": "e36082ea",
   "metadata": {},
   "source": [
    "## Operating with lists"
   ]
  },
  {
   "cell_type": "code",
   "execution_count": 10,
   "id": "46b61f97",
   "metadata": {},
   "outputs": [
    {
     "data": {
      "text/plain": [
       "['foo', 'bar', 'baz', 'qux', 1, 2, 3, 4]"
      ]
     },
     "execution_count": 10,
     "metadata": {},
     "output_type": "execute_result"
    }
   ],
   "source": [
    "# Extend two list to make it one long list\n",
    "a + b"
   ]
  },
  {
   "cell_type": "markdown",
   "id": "6e510129",
   "metadata": {},
   "source": [
    "# Mutable\n",
    "\n",
    "It can be changed once they have been assigned."
   ]
  },
  {
   "cell_type": "markdown",
   "id": "28f18bd6",
   "metadata": {},
   "source": [
    "##  Tuples"
   ]
  },
  {
   "cell_type": "markdown",
   "id": "dc07fc36",
   "metadata": {},
   "source": [
    "1. Tuples are **immutables**"
   ]
  },
  {
   "cell_type": "code",
   "execution_count": 11,
   "id": "aa73a97f",
   "metadata": {},
   "outputs": [],
   "source": [
    "#Create a tuple\n",
    "e = (1, 2, 3)"
   ]
  },
  {
   "cell_type": "code",
   "execution_count": 12,
   "id": "99d8e216",
   "metadata": {},
   "outputs": [
    {
     "data": {
      "text/plain": [
       "(1, 2, 3)"
      ]
     },
     "execution_count": 12,
     "metadata": {},
     "output_type": "execute_result"
    }
   ],
   "source": [
    "#Show the tuple\n",
    "e"
   ]
  },
  {
   "cell_type": "code",
   "execution_count": 13,
   "id": "7ec8c326",
   "metadata": {},
   "outputs": [
    {
     "data": {
      "text/plain": [
       "1"
      ]
     },
     "execution_count": 13,
     "metadata": {},
     "output_type": "execute_result"
    }
   ],
   "source": [
    "#Shoe the first element of the tuple\n",
    "e[0]"
   ]
  },
  {
   "cell_type": "markdown",
   "id": "ffd0a782",
   "metadata": {},
   "source": [
    "Reversal mechanism"
   ]
  },
  {
   "cell_type": "code",
   "execution_count": 14,
   "id": "444d8838",
   "metadata": {},
   "outputs": [
    {
     "data": {
      "text/plain": [
       "(3, 2, 1)"
      ]
     },
     "execution_count": 14,
     "metadata": {},
     "output_type": "execute_result"
    }
   ],
   "source": [
    "#Reverse the tuple\n",
    "e[::-1]"
   ]
  },
  {
   "cell_type": "markdown",
   "id": "bffe80db",
   "metadata": {},
   "source": [
    "- Program execution is faster when manipulating **tuples**\n",
    "- Sometimes we want immutable data\n",
    "- Dictionarie concept uses the immutable propierty."
   ]
  },
  {
   "cell_type": "markdown",
   "id": "c912616d",
   "metadata": {},
   "source": [
    "# Packing and unpacking "
   ]
  },
  {
   "cell_type": "code",
   "execution_count": 15,
   "id": "7ca2dff6",
   "metadata": {},
   "outputs": [],
   "source": [
    "#Associate each variable to a value \n",
    "(v1, v2, v3) = (2, 20, 200)\n"
   ]
  },
  {
   "cell_type": "code",
   "execution_count": 16,
   "id": "8b210440",
   "metadata": {},
   "outputs": [
    {
     "data": {
      "text/plain": [
       "200"
      ]
     },
     "execution_count": 16,
     "metadata": {},
     "output_type": "execute_result"
    }
   ],
   "source": [
    "#Show the third varianle value\n",
    "v3"
   ]
  },
  {
   "cell_type": "markdown",
   "id": "bc908238",
   "metadata": {},
   "source": [
    "You can test it without parenthesis."
   ]
  },
  {
   "cell_type": "markdown",
   "id": "31952e8d",
   "metadata": {},
   "source": [
    "# Modifying "
   ]
  },
  {
   "cell_type": "code",
   "execution_count": 17,
   "id": "c671371b",
   "metadata": {},
   "outputs": [],
   "source": [
    "#Create a list\n",
    "d = [1,2,3,4,5,6,7,8]"
   ]
  },
  {
   "cell_type": "code",
   "execution_count": 18,
   "id": "1a785d03",
   "metadata": {},
   "outputs": [],
   "source": [
    "#Replace the element from 2 to 5 by 9\n",
    "d[1:6]=[9]"
   ]
  },
  {
   "cell_type": "code",
   "execution_count": 19,
   "id": "055128af",
   "metadata": {},
   "outputs": [
    {
     "data": {
      "text/plain": [
       "[1, 9, 7, 8]"
      ]
     },
     "execution_count": 19,
     "metadata": {},
     "output_type": "execute_result"
    }
   ],
   "source": [
    "#Show the new list\n",
    "d"
   ]
  },
  {
   "cell_type": "markdown",
   "id": "f55d9054",
   "metadata": {},
   "source": [
    "We replace a specific slice of the list with a new value```d[1:6]=[9]```"
   ]
  },
  {
   "cell_type": "markdown",
   "id": "cd250c16",
   "metadata": {},
   "source": [
    "# Dictionaries"
   ]
  },
  {
   "cell_type": "markdown",
   "id": "3ed6f5a9",
   "metadata": {},
   "source": [
    "A dictionary is a collection which is \n",
    "    - **ordered**, \n",
    "    - **changeable** and \n",
    "    - **does not allow duplicates**.\n",
    "\n",
    "Dictionaries are used to store data values in ```key:value```pairs.\n",
    "\n"
   ]
  },
  {
   "cell_type": "code",
   "execution_count": 20,
   "id": "ef813547",
   "metadata": {},
   "outputs": [
    {
     "name": "stdout",
     "output_type": "stream",
     "text": [
      "{'brand': 'Ford', 'model': 'Mustang', 'year': 1964}\n"
     ]
    }
   ],
   "source": [
    "#Create a dictionnary and print it\n",
    "thisdict =\t{\n",
    "  \"brand\": \"Ford\",\n",
    "  \"model\": \"Mustang\",\n",
    "  \"year\": 1964\n",
    "}\n",
    "print(thisdict)"
   ]
  },
  {
   "cell_type": "code",
   "execution_count": 21,
   "id": "32e63d0c",
   "metadata": {},
   "outputs": [
    {
     "name": "stdout",
     "output_type": "stream",
     "text": [
      "Ford\n"
     ]
    }
   ],
   "source": [
    "#Print the associated value to brand\n",
    "print(thisdict[\"brand\"])"
   ]
  },
  {
   "cell_type": "markdown",
   "id": "eba28a81",
   "metadata": {},
   "source": [
    "# Set"
   ]
  },
  {
   "cell_type": "markdown",
   "id": "199b3be4",
   "metadata": {},
   "source": [
    "Sets are used to store multiple items in a single variable.\n",
    "A set is a collection which is **unordered, unchangeable**, and **unindexed**."
   ]
  },
  {
   "cell_type": "code",
   "execution_count": 22,
   "id": "c402f4a3",
   "metadata": {},
   "outputs": [],
   "source": [
    "#Create a set\n",
    "myset = {\"apple\", \"banana\", \"cherry\"} "
   ]
  },
  {
   "cell_type": "markdown",
   "id": "db7343c6",
   "metadata": {},
   "source": [
    "The items in the set \n",
    "    - do not have a defined order.\n",
    "    - Set items cannot be changed after the set has been created.\n",
    "    - and cannot be referred to by index or key"
   ]
  },
  {
   "cell_type": "markdown",
   "id": "2005fc46",
   "metadata": {},
   "source": [
    "# Exercises <a name=\"exercises\"></a>"
   ]
  },
  {
   "cell_type": "markdown",
   "id": "d2e2257d",
   "metadata": {},
   "source": [
    "1. Create the list for the next diagram\n",
    "\n",
    "[<img src=\"https://files.realpython.com/media/t.08554d94a1e5.png\">](https://files.realpython.com/media/t.08554d94a1e5.png)\n",
    "\n",
    "<!---\n",
    "\n",
    "['a', ['bb', ['ccc', 'ddd'], 'ee', 'ff'], 'g', ['hh', 'ii'], 'j']\n",
    "--->"
   ]
  },
  {
   "cell_type": "markdown",
   "id": "70e5cebb",
   "metadata": {},
   "source": [
    "2. Implement some examples with methods such as\n",
    "    - ```append```\n",
    "    - ```upper```\n",
    "    - ```extend```\n",
    "    - ```insert```\n",
    "    - ```remove```\n",
    "    - ```pop```"
   ]
  },
  {
   "cell_type": "markdown",
   "id": "546f4750",
   "metadata": {},
   "source": [
    "3. Apply basic operations with tuples\n",
    "4. Create a Jupyter Notebook and solve this NB's questions.\n",
    "5. Add documentation for the previous code, each line.\n",
    "6. Submmit your report in Moodle. Template https://www.overleaf.com/read/xqcnnnrsspcp\n"
   ]
  },
  {
   "cell_type": "markdown",
   "id": "ccca25cf",
   "metadata": {},
   "source": [
    "## Versions"
   ]
  },
  {
   "cell_type": "code",
   "execution_count": 23,
   "id": "c529c837",
   "metadata": {},
   "outputs": [
    {
     "name": "stdout",
     "output_type": "stream",
     "text": [
      "python version:  3.11.7\n"
     ]
    }
   ],
   "source": [
    "from platform import python_version\n",
    "print(\"python version: \", python_version())\n",
    "!pip3 freeze | grep qiskit"
   ]
  },
  {
   "cell_type": "code",
   "execution_count": 3,
   "id": "3d0d2912-e504-4d20-ac8e-1f66d53ae643",
   "metadata": {},
   "outputs": [
    {
     "name": "stdout",
     "output_type": "stream",
     "text": [
      "['a', ['bb', ['ccc', 'ddd'], 'ee', 'ff'], 'g', ['hh', 'ii'], 'j']\n"
     ]
    }
   ],
   "source": [
    "#1\n",
    "x = ['a', 'g', 'j']\n",
    "x.insert(1, [\"bb\", \"ee\", \"ff\"])\n",
    "x.insert(3, [\"hh\", \"ii\"])\n",
    "x[1].insert(1,[\"ccc\", \"ddd\"])\n",
    "print(x)"
   ]
  },
  {
   "cell_type": "code",
   "execution_count": 6,
   "id": "fdac68db-edf2-4824-a516-ca2605d6a320",
   "metadata": {},
   "outputs": [
    {
     "name": "stdout",
     "output_type": "stream",
     "text": [
      "[1, 3, 3, 4, 'l', 99]\n"
     ]
    }
   ],
   "source": [
    "#2\n",
    "a = [1,2,3,4]\n",
    "b = [\"l\",99]\n",
    "a.append(5)\n",
    "a.pop()\n",
    "a.insert(2,3)\n",
    "a.remove(2)\n",
    "a.extend(b)\n",
    "a[4].upper()\n",
    "\n",
    "print(a)\n"
   ]
  },
  {
   "cell_type": "code",
   "execution_count": 9,
   "id": "a7a42add-2ed5-4bfc-9cda-852f80aaf9a3",
   "metadata": {},
   "outputs": [
    {
     "name": "stdout",
     "output_type": "stream",
     "text": [
      "(1, 2, 3, 4)\n",
      "2\n"
     ]
    }
   ],
   "source": [
    "#3\n",
    "a = (1,2)\n",
    "b = (3,4)\n",
    "print(a+b)\n",
    "print(a[1])"
   ]
  },
  {
   "cell_type": "markdown",
   "id": "220d01d1",
   "metadata": {},
   "source": [
    "# References <a name=\"references\"></a>"
   ]
  },
  {
   "cell_type": "markdown",
   "id": "82f2a41a",
   "metadata": {},
   "source": [
    "[1] https://realpython.com/python-lists-tuples/"
   ]
  }
 ],
 "metadata": {
  "kernelspec": {
   "display_name": "Python 3 (ipykernel)",
   "language": "python",
   "name": "python3"
  },
  "language_info": {
   "codemirror_mode": {
    "name": "ipython",
    "version": 3
   },
   "file_extension": ".py",
   "mimetype": "text/x-python",
   "name": "python",
   "nbconvert_exporter": "python",
   "pygments_lexer": "ipython3",
   "version": "3.11.7"
  },
  "vscode": {
   "interpreter": {
    "hash": "31f2aee4e71d21fbe5cf8b01ff0e069b9275f58929596ceb00d14d90e3e16cd6"
   }
  }
 },
 "nbformat": 4,
 "nbformat_minor": 5
}
